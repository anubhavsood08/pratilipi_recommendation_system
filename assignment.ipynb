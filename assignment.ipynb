{
 "cells": [
  {
   "cell_type": "code",
   "execution_count": 2,
   "metadata": {},
   "outputs": [],
   "source": [
    "import pandas as pd \n",
    "import numpy as np "
   ]
  },
  {
   "cell_type": "code",
   "execution_count": 3,
   "metadata": {},
   "outputs": [],
   "source": [
    "user_interaction = pd.read_csv(\"user_interaction.csv\")\n",
    "metadata = pd.read_csv(\"metadata.csv\")"
   ]
  },
  {
   "cell_type": "code",
   "execution_count": 4,
   "metadata": {},
   "outputs": [
    {
     "name": "stdout",
     "output_type": "stream",
     "text": [
      "<class 'pandas.core.frame.DataFrame'>\n",
      "RangeIndex: 2500000 entries, 0 to 2499999\n",
      "Data columns (total 4 columns):\n",
      " #   Column        Dtype  \n",
      "---  ------        -----  \n",
      " 0   user_id       int64  \n",
      " 1   pratilipi_id  int64  \n",
      " 2   read_percent  float64\n",
      " 3   updated_at    object \n",
      "dtypes: float64(1), int64(2), object(1)\n",
      "memory usage: 76.3+ MB\n",
      "<class 'pandas.core.frame.DataFrame'>\n",
      "RangeIndex: 954501 entries, 0 to 954500\n",
      "Data columns (total 6 columns):\n",
      " #   Column         Non-Null Count   Dtype \n",
      "---  ------         --------------   ----- \n",
      " 0   author_id      954501 non-null  int64 \n",
      " 1   pratilipi_id   954501 non-null  int64 \n",
      " 2   category_name  954501 non-null  object\n",
      " 3   reading_time   954501 non-null  int64 \n",
      " 4   updated_at     954501 non-null  object\n",
      " 5   published_at   954494 non-null  object\n",
      "dtypes: int64(3), object(3)\n",
      "memory usage: 43.7+ MB\n"
     ]
    }
   ],
   "source": [
    "user_interaction.info()\n",
    "metadata.info()"
   ]
  },
  {
   "cell_type": "code",
   "execution_count": 5,
   "metadata": {},
   "outputs": [
    {
     "data": {
      "text/html": [
       "<div>\n",
       "<style scoped>\n",
       "    .dataframe tbody tr th:only-of-type {\n",
       "        vertical-align: middle;\n",
       "    }\n",
       "\n",
       "    .dataframe tbody tr th {\n",
       "        vertical-align: top;\n",
       "    }\n",
       "\n",
       "    .dataframe thead th {\n",
       "        text-align: right;\n",
       "    }\n",
       "</style>\n",
       "<table border=\"1\" class=\"dataframe\">\n",
       "  <thead>\n",
       "    <tr style=\"text-align: right;\">\n",
       "      <th></th>\n",
       "      <th>user_id</th>\n",
       "      <th>pratilipi_id</th>\n",
       "      <th>read_percent</th>\n",
       "      <th>updated_at</th>\n",
       "    </tr>\n",
       "  </thead>\n",
       "  <tbody>\n",
       "    <tr>\n",
       "      <th>0</th>\n",
       "      <td>5506791961876448</td>\n",
       "      <td>1377786228262109</td>\n",
       "      <td>100.0</td>\n",
       "      <td>2022-03-22 10:29:57.291</td>\n",
       "    </tr>\n",
       "    <tr>\n",
       "      <th>1</th>\n",
       "      <td>5506791971543560</td>\n",
       "      <td>1377786223038206</td>\n",
       "      <td>40.0</td>\n",
       "      <td>2022-03-19 13:49:25.660</td>\n",
       "    </tr>\n",
       "    <tr>\n",
       "      <th>2</th>\n",
       "      <td>5506791996468218</td>\n",
       "      <td>1377786227025240</td>\n",
       "      <td>100.0</td>\n",
       "      <td>2022-03-21 17:28:47.288</td>\n",
       "    </tr>\n",
       "    <tr>\n",
       "      <th>3</th>\n",
       "      <td>5506791978752866</td>\n",
       "      <td>1377786222398208</td>\n",
       "      <td>65.0</td>\n",
       "      <td>2022-03-21 07:39:25.183</td>\n",
       "    </tr>\n",
       "    <tr>\n",
       "      <th>4</th>\n",
       "      <td>5506791978962946</td>\n",
       "      <td>1377786228157051</td>\n",
       "      <td>100.0</td>\n",
       "      <td>2022-03-22 17:32:44.777</td>\n",
       "    </tr>\n",
       "  </tbody>\n",
       "</table>\n",
       "</div>"
      ],
      "text/plain": [
       "            user_id      pratilipi_id  read_percent               updated_at\n",
       "0  5506791961876448  1377786228262109         100.0  2022-03-22 10:29:57.291\n",
       "1  5506791971543560  1377786223038206          40.0  2022-03-19 13:49:25.660\n",
       "2  5506791996468218  1377786227025240         100.0  2022-03-21 17:28:47.288\n",
       "3  5506791978752866  1377786222398208          65.0  2022-03-21 07:39:25.183\n",
       "4  5506791978962946  1377786228157051         100.0  2022-03-22 17:32:44.777"
      ]
     },
     "execution_count": 5,
     "metadata": {},
     "output_type": "execute_result"
    }
   ],
   "source": [
    "user_interaction.head()"
   ]
  },
  {
   "cell_type": "code",
   "execution_count": 6,
   "metadata": {},
   "outputs": [
    {
     "data": {
      "text/html": [
       "<div>\n",
       "<style scoped>\n",
       "    .dataframe tbody tr th:only-of-type {\n",
       "        vertical-align: middle;\n",
       "    }\n",
       "\n",
       "    .dataframe tbody tr th {\n",
       "        vertical-align: top;\n",
       "    }\n",
       "\n",
       "    .dataframe thead th {\n",
       "        text-align: right;\n",
       "    }\n",
       "</style>\n",
       "<table border=\"1\" class=\"dataframe\">\n",
       "  <thead>\n",
       "    <tr style=\"text-align: right;\">\n",
       "      <th></th>\n",
       "      <th>author_id</th>\n",
       "      <th>pratilipi_id</th>\n",
       "      <th>category_name</th>\n",
       "      <th>reading_time</th>\n",
       "      <th>updated_at</th>\n",
       "      <th>published_at</th>\n",
       "    </tr>\n",
       "  </thead>\n",
       "  <tbody>\n",
       "    <tr>\n",
       "      <th>0</th>\n",
       "      <td>-3418949279741297</td>\n",
       "      <td>1025741862639304</td>\n",
       "      <td>translation</td>\n",
       "      <td>0</td>\n",
       "      <td>2020-08-19 15:26:13</td>\n",
       "      <td>2016-09-30 10:37:04</td>\n",
       "    </tr>\n",
       "    <tr>\n",
       "      <th>1</th>\n",
       "      <td>-2270332351871840</td>\n",
       "      <td>1377786215601277</td>\n",
       "      <td>translation</td>\n",
       "      <td>171</td>\n",
       "      <td>2021-01-21 16:27:07</td>\n",
       "      <td>2018-06-11 13:17:48</td>\n",
       "    </tr>\n",
       "    <tr>\n",
       "      <th>2</th>\n",
       "      <td>-2270332352037261</td>\n",
       "      <td>1377786215601962</td>\n",
       "      <td>translation</td>\n",
       "      <td>92</td>\n",
       "      <td>2020-09-29 12:33:57</td>\n",
       "      <td>2018-06-12 04:19:12</td>\n",
       "    </tr>\n",
       "    <tr>\n",
       "      <th>3</th>\n",
       "      <td>-2270332352521845</td>\n",
       "      <td>1377786215640994</td>\n",
       "      <td>translation</td>\n",
       "      <td>0</td>\n",
       "      <td>2019-10-17 09:03:37</td>\n",
       "      <td>2019-09-26 14:58:53</td>\n",
       "    </tr>\n",
       "    <tr>\n",
       "      <th>4</th>\n",
       "      <td>-2270332349665658</td>\n",
       "      <td>1377786215931338</td>\n",
       "      <td>translation</td>\n",
       "      <td>47</td>\n",
       "      <td>2020-05-05 11:33:41</td>\n",
       "      <td>2018-11-25 12:28:23</td>\n",
       "    </tr>\n",
       "  </tbody>\n",
       "</table>\n",
       "</div>"
      ],
      "text/plain": [
       "          author_id      pratilipi_id category_name  reading_time  \\\n",
       "0 -3418949279741297  1025741862639304   translation             0   \n",
       "1 -2270332351871840  1377786215601277   translation           171   \n",
       "2 -2270332352037261  1377786215601962   translation            92   \n",
       "3 -2270332352521845  1377786215640994   translation             0   \n",
       "4 -2270332349665658  1377786215931338   translation            47   \n",
       "\n",
       "            updated_at         published_at  \n",
       "0  2020-08-19 15:26:13  2016-09-30 10:37:04  \n",
       "1  2021-01-21 16:27:07  2018-06-11 13:17:48  \n",
       "2  2020-09-29 12:33:57  2018-06-12 04:19:12  \n",
       "3  2019-10-17 09:03:37  2019-09-26 14:58:53  \n",
       "4  2020-05-05 11:33:41  2018-11-25 12:28:23  "
      ]
     },
     "execution_count": 6,
     "metadata": {},
     "output_type": "execute_result"
    }
   ],
   "source": [
    "metadata.head()"
   ]
  },
  {
   "cell_type": "code",
   "execution_count": 7,
   "metadata": {},
   "outputs": [
    {
     "data": {
      "text/plain": [
       "user_id         0\n",
       "pratilipi_id    0\n",
       "read_percent    0\n",
       "updated_at      0\n",
       "dtype: int64"
      ]
     },
     "execution_count": 7,
     "metadata": {},
     "output_type": "execute_result"
    }
   ],
   "source": [
    "user_interaction.isnull().sum()"
   ]
  },
  {
   "cell_type": "code",
   "execution_count": 8,
   "metadata": {},
   "outputs": [
    {
     "data": {
      "text/plain": [
       "author_id        0\n",
       "pratilipi_id     0\n",
       "category_name    0\n",
       "reading_time     0\n",
       "updated_at       0\n",
       "published_at     7\n",
       "dtype: int64"
      ]
     },
     "execution_count": 8,
     "metadata": {},
     "output_type": "execute_result"
    }
   ],
   "source": [
    "metadata.isnull().sum()"
   ]
  },
  {
   "cell_type": "code",
   "execution_count": 9,
   "metadata": {},
   "outputs": [
    {
     "data": {
      "text/plain": [
       "0"
      ]
     },
     "execution_count": 9,
     "metadata": {},
     "output_type": "execute_result"
    }
   ],
   "source": [
    "user_interaction.duplicated().sum()"
   ]
  },
  {
   "cell_type": "code",
   "execution_count": 10,
   "metadata": {},
   "outputs": [
    {
     "data": {
      "text/plain": [
       "0"
      ]
     },
     "execution_count": 10,
     "metadata": {},
     "output_type": "execute_result"
    }
   ],
   "source": [
    "metadata.duplicated().sum()"
   ]
  },
  {
   "cell_type": "code",
   "execution_count": 11,
   "metadata": {},
   "outputs": [],
   "source": [
    "user_interaction[\"updated_at\"] = pd.to_datetime(user_interaction[\"updated_at\"])"
   ]
  },
  {
   "cell_type": "code",
   "execution_count": 12,
   "metadata": {},
   "outputs": [],
   "source": [
    "metadata[\"updated_at\"]= pd.to_datetime(metadata[\"updated_at\"])"
   ]
  },
  {
   "cell_type": "code",
   "execution_count": 13,
   "metadata": {},
   "outputs": [],
   "source": [
    "metadata[\"published_at\"]= pd.to_datetime(metadata[\"published_at\"])"
   ]
  },
  {
   "cell_type": "code",
   "execution_count": 14,
   "metadata": {},
   "outputs": [
    {
     "data": {
      "text/plain": [
       "user_id                  int64\n",
       "pratilipi_id             int64\n",
       "read_percent           float64\n",
       "updated_at      datetime64[ns]\n",
       "dtype: object"
      ]
     },
     "execution_count": 14,
     "metadata": {},
     "output_type": "execute_result"
    }
   ],
   "source": [
    "user_interaction.dtypes"
   ]
  },
  {
   "cell_type": "code",
   "execution_count": 15,
   "metadata": {},
   "outputs": [
    {
     "data": {
      "text/plain": [
       "author_id                 int64\n",
       "pratilipi_id              int64\n",
       "category_name            object\n",
       "reading_time              int64\n",
       "updated_at       datetime64[ns]\n",
       "published_at     datetime64[ns]\n",
       "dtype: object"
      ]
     },
     "execution_count": 15,
     "metadata": {},
     "output_type": "execute_result"
    }
   ],
   "source": [
    "metadata.dtypes"
   ]
  },
  {
   "cell_type": "code",
   "execution_count": 16,
   "metadata": {},
   "outputs": [],
   "source": [
    "import matplotlib.pyplot as plt \n",
    "import seaborn as sns "
   ]
  },
  {
   "cell_type": "code",
   "execution_count": 17,
   "metadata": {},
   "outputs": [],
   "source": [
    "user_read_counts = user_interaction.groupby(\"user_id\")[\"pratilipi_id\"].nunique()"
   ]
  },
  {
   "cell_type": "code",
   "execution_count": 18,
   "metadata": {},
   "outputs": [
    {
     "data": {
      "image/png": "[encoded data removed]",
      "text/plain": [
       "<Figure size 1000x500 with 1 Axes>"
      ]
     },
     "metadata": {},
     "output_type": "display_data"
    }
   ],
   "source": [
    "plt.figure(figsize=(10,5))\n",
    "sns.histplot(user_read_counts, bins=50, kde=True)\n",
    "plt.xlabel(\"Number of Stories Read per user\")\n",
    "plt.ylabel(\"Number of users\")\n",
    "plt.title(\"Distribution of stories Read per user\")\n",
    "plt.show()"
   ]
  },
  {
   "cell_type": "code",
   "execution_count": 19,
   "metadata": {},
   "outputs": [
    {
     "data": {
      "text/plain": [
       "user_id\n",
       "3257552805995172     85.000000\n",
       "3257621147984548     80.000000\n",
       "3260243929637540    100.000000\n",
       "3260275089121956     97.405405\n",
       "3260433621754532    100.000000\n",
       "                       ...    \n",
       "5506791996685224     43.552190\n",
       "5506791996685251    100.000000\n",
       "5506791996685282    100.000000\n",
       "5506791996685286    100.000000\n",
       "5506791996685385     21.507437\n",
       "Name: read_percent, Length: 243606, dtype: float64"
      ]
     },
     "execution_count": 19,
     "metadata": {},
     "output_type": "execute_result"
    }
   ],
   "source": [
    "user_avg_read= user_interaction.groupby(\"user_id\")[\"read_percent\"].mean()\n",
    "user_avg_read"
   ]
  },
  {
   "cell_type": "code",
   "execution_count": 20,
   "metadata": {},
   "outputs": [
    {
     "data": {
      "image/png": "[encoded data removed]",
      "text/plain": [
       "<Figure size 1000x500 with 1 Axes>"
      ]
     },
     "metadata": {},
     "output_type": "display_data"
    }
   ],
   "source": [
    "plt.figure(figsize=(10,5))\n",
    "sns.histplot(user_avg_read,bins=50,kde=True)\n",
    "plt.xlabel(\"Average Read Percentage\")\n",
    "plt.ylabel(\"Number of Users\")\n",
    "plt.title(\"User Average Read Percentage Distribution\")\n",
    "plt.show()"
   ]
  },
  {
   "cell_type": "code",
   "execution_count": 21,
   "metadata": {},
   "outputs": [
    {
     "data": {
      "text/plain": [
       "1377786228205426    3439\n",
       "1377786217541698    2392\n",
       "1377786228336060    2318\n",
       "1377786228237359    2176\n",
       "1377786228240538    2155\n",
       "1377786228262109    1943\n",
       "1377786228243389    1872\n",
       "1377786215982409    1869\n",
       "1377786228127102    1854\n",
       "1377786228184482    1844\n",
       "Name: pratilipi_id, dtype: int64"
      ]
     },
     "execution_count": 21,
     "metadata": {},
     "output_type": "execute_result"
    }
   ],
   "source": [
    "top_Stories = user_interaction[\"pratilipi_id\"].value_counts().head(10)\n",
    "top_Stories"
   ]
  },
  {
   "cell_type": "code",
   "execution_count": 22,
   "metadata": {},
   "outputs": [
    {
     "data": {
      "image/png": "[encoded data removed]",
      "text/plain": [
       "<Figure size 1200x600 with 1 Axes>"
      ]
     },
     "metadata": {},
     "output_type": "display_data"
    }
   ],
   "source": [
    "plt.figure(figsize=(12,6))\n",
    "sns.barplot(x=top_Stories.index, y=top_Stories.values)\n",
    "plt.xlabel(\"Pratilipi ID\")\n",
    "plt.ylabel(\"Top 10 Most Read Stories\")\n",
    "plt.xticks(rotation=45)\n",
    "plt.show()"
   ]
  },
  {
   "cell_type": "code",
   "execution_count": 23,
   "metadata": {},
   "outputs": [
    {
     "data": {
      "text/plain": [
       "romance            193220\n",
       "shortstories       102097\n",
       "social              73920\n",
       "suspense            64041\n",
       "family              58515\n",
       "novels              53584\n",
       "life                51356\n",
       "moral-inspiring     47421\n",
       "women               37168\n",
       "horror              28506\n",
       "Name: category_name, dtype: int64"
      ]
     },
     "execution_count": 23,
     "metadata": {},
     "output_type": "execute_result"
    }
   ],
   "source": [
    "top_categories = metadata[\"category_name\"].value_counts().head(10)\n",
    "top_categories"
   ]
  },
  {
   "cell_type": "code",
   "execution_count": 24,
   "metadata": {},
   "outputs": [
    {
     "data": {
      "image/png": "[encoded data removed]",
      "text/plain": [
       "<Figure size 1200x600 with 1 Axes>"
      ]
     },
     "metadata": {},
     "output_type": "display_data"
    }
   ],
   "source": [
    "plt.figure(figsize=(12,6))\n",
    "sns.barplot(x=top_categories.index,y=top_categories.values)\n",
    "plt.xlabel(\"Category\")\n",
    "plt.ylabel(\"Number of Stories\")\n",
    "plt.title(\"Top 20 Most Popular Categories\")\n",
    "plt.xticks(rotation=45)\n",
    "plt.show()"
   ]
  },
  {
   "cell_type": "code",
   "execution_count": 25,
   "metadata": {},
   "outputs": [
    {
     "data": {
      "text/html": [
       "<div>\n",
       "<style scoped>\n",
       "    .dataframe tbody tr th:only-of-type {\n",
       "        vertical-align: middle;\n",
       "    }\n",
       "\n",
       "    .dataframe tbody tr th {\n",
       "        vertical-align: top;\n",
       "    }\n",
       "\n",
       "    .dataframe thead th {\n",
       "        text-align: right;\n",
       "    }\n",
       "</style>\n",
       "<table border=\"1\" class=\"dataframe\">\n",
       "  <thead>\n",
       "    <tr style=\"text-align: right;\">\n",
       "      <th></th>\n",
       "      <th>user_id</th>\n",
       "      <th>pratilipi_id</th>\n",
       "      <th>read_percent</th>\n",
       "      <th>updated_at_x</th>\n",
       "      <th>author_id</th>\n",
       "      <th>category_name</th>\n",
       "      <th>reading_time</th>\n",
       "      <th>updated_at_y</th>\n",
       "      <th>published_at</th>\n",
       "    </tr>\n",
       "  </thead>\n",
       "  <tbody>\n",
       "    <tr>\n",
       "      <th>0</th>\n",
       "      <td>5506791961876448</td>\n",
       "      <td>1377786228262109</td>\n",
       "      <td>100.0</td>\n",
       "      <td>2022-03-22 10:29:57.291</td>\n",
       "      <td>-2.270332e+15</td>\n",
       "      <td>novels</td>\n",
       "      <td>376.0</td>\n",
       "      <td>2022-03-15 18:39:52</td>\n",
       "      <td>2022-03-15 18:39:52</td>\n",
       "    </tr>\n",
       "    <tr>\n",
       "      <th>1</th>\n",
       "      <td>5506791961876448</td>\n",
       "      <td>1377786228262109</td>\n",
       "      <td>100.0</td>\n",
       "      <td>2022-03-22 10:29:57.291</td>\n",
       "      <td>-2.270332e+15</td>\n",
       "      <td>family</td>\n",
       "      <td>376.0</td>\n",
       "      <td>2022-03-15 18:39:52</td>\n",
       "      <td>2022-03-15 18:39:52</td>\n",
       "    </tr>\n",
       "    <tr>\n",
       "      <th>2</th>\n",
       "      <td>5506791961876448</td>\n",
       "      <td>1377786228262109</td>\n",
       "      <td>100.0</td>\n",
       "      <td>2022-03-22 10:29:57.291</td>\n",
       "      <td>-2.270332e+15</td>\n",
       "      <td>romance</td>\n",
       "      <td>376.0</td>\n",
       "      <td>2022-03-15 18:39:52</td>\n",
       "      <td>2022-03-15 18:39:52</td>\n",
       "    </tr>\n",
       "    <tr>\n",
       "      <th>3</th>\n",
       "      <td>5506791971543560</td>\n",
       "      <td>1377786223038206</td>\n",
       "      <td>40.0</td>\n",
       "      <td>2022-03-19 13:49:25.660</td>\n",
       "      <td>-2.270332e+15</td>\n",
       "      <td>romance</td>\n",
       "      <td>361.0</td>\n",
       "      <td>2021-03-17 11:48:11</td>\n",
       "      <td>2021-03-16 19:09:19</td>\n",
       "    </tr>\n",
       "    <tr>\n",
       "      <th>4</th>\n",
       "      <td>5506791971543560</td>\n",
       "      <td>1377786223038206</td>\n",
       "      <td>40.0</td>\n",
       "      <td>2022-03-19 13:49:25.660</td>\n",
       "      <td>-2.270332e+15</td>\n",
       "      <td>suspense</td>\n",
       "      <td>361.0</td>\n",
       "      <td>2021-03-17 11:48:11</td>\n",
       "      <td>2021-03-16 19:09:19</td>\n",
       "    </tr>\n",
       "  </tbody>\n",
       "</table>\n",
       "</div>"
      ],
      "text/plain": [
       "            user_id      pratilipi_id  read_percent            updated_at_x  \\\n",
       "0  5506791961876448  1377786228262109         100.0 2022-03-22 10:29:57.291   \n",
       "1  5506791961876448  1377786228262109         100.0 2022-03-22 10:29:57.291   \n",
       "2  5506791961876448  1377786228262109         100.0 2022-03-22 10:29:57.291   \n",
       "3  5506791971543560  1377786223038206          40.0 2022-03-19 13:49:25.660   \n",
       "4  5506791971543560  1377786223038206          40.0 2022-03-19 13:49:25.660   \n",
       "\n",
       "      author_id category_name  reading_time        updated_at_y  \\\n",
       "0 -2.270332e+15        novels         376.0 2022-03-15 18:39:52   \n",
       "1 -2.270332e+15        family         376.0 2022-03-15 18:39:52   \n",
       "2 -2.270332e+15       romance         376.0 2022-03-15 18:39:52   \n",
       "3 -2.270332e+15       romance         361.0 2021-03-17 11:48:11   \n",
       "4 -2.270332e+15      suspense         361.0 2021-03-17 11:48:11   \n",
       "\n",
       "         published_at  \n",
       "0 2022-03-15 18:39:52  \n",
       "1 2022-03-15 18:39:52  \n",
       "2 2022-03-15 18:39:52  \n",
       "3 2021-03-16 19:09:19  \n",
       "4 2021-03-16 19:09:19  "
      ]
     },
     "execution_count": 25,
     "metadata": {},
     "output_type": "execute_result"
    }
   ],
   "source": [
    "merged_data = user_interaction.merge(metadata, on=\"pratilipi_id\", how=\"left\")\n",
    "merged_data.head()"
   ]
  },
  {
   "cell_type": "code",
   "execution_count": 26,
   "metadata": {},
   "outputs": [],
   "source": [
    "merged_data = merged_data.sort_values(by=\"updated_at_y\")\n",
    "split_idx = int(len(merged_data)*0.75)\n",
    "train_data = merged_data.iloc[:split_idx]\n",
    "test_data = merged_data.iloc[split_idx:]\n"
   ]
  },
  {
   "cell_type": "code",
   "execution_count": 27,
   "metadata": {},
   "outputs": [
    {
     "data": {
      "text/plain": [
       "(3724965, 9)"
      ]
     },
     "execution_count": 27,
     "metadata": {},
     "output_type": "execute_result"
    }
   ],
   "source": [
    "train_data.shape"
   ]
  },
  {
   "cell_type": "code",
   "execution_count": 28,
   "metadata": {},
   "outputs": [
    {
     "data": {
      "text/plain": [
       "(1241656, 9)"
      ]
     },
     "execution_count": 28,
     "metadata": {},
     "output_type": "execute_result"
    }
   ],
   "source": [
    "test_data.shape"
   ]
  },
  {
   "cell_type": "markdown",
   "metadata": {},
   "source": [
    "### BUILDING THE RECOMMENDATION MODEL\n"
   ]
  },
  {
   "cell_type": "code",
   "execution_count": 29,
   "metadata": {},
   "outputs": [],
   "source": [
    "from surprise import SVD \n",
    "from surprise import Dataset, Reader\n",
    "from surprise.model_selection import train_test_split\n",
    "from surprise import accuracy"
   ]
  },
  {
   "cell_type": "code",
   "execution_count": 30,
   "metadata": {},
   "outputs": [],
   "source": [
    "reader = Reader(rating_scale=(0,100))"
   ]
  },
  {
   "cell_type": "code",
   "execution_count": 31,
   "metadata": {},
   "outputs": [],
   "source": [
    "data = Dataset.load_from_df(train_data[['user_id','pratilipi_id','read_percent']],reader)"
   ]
  },
  {
   "cell_type": "code",
   "execution_count": 32,
   "metadata": {},
   "outputs": [],
   "source": [
    "trainset, valset = train_test_split(data, test_size=0.25)"
   ]
  },
  {
   "cell_type": "code",
   "execution_count": 33,
   "metadata": {},
   "outputs": [
    {
     "data": {
      "text/plain": [
       "<surprise.prediction_algorithms.matrix_factorization.SVD at 0x24902048cd0>"
      ]
     },
     "execution_count": 33,
     "metadata": {},
     "output_type": "execute_result"
    }
   ],
   "source": [
    "svd_model = SVD(n_factors=50, random_state=42)\n",
    "svd_model.fit(trainset)"
   ]
  },
  {
   "cell_type": "code",
   "execution_count": 34,
   "metadata": {},
   "outputs": [
    {
     "name": "stdout",
     "output_type": "stream",
     "text": [
      "RMSE: 22.0882\n"
     ]
    }
   ],
   "source": [
    "predictions = svd_model.test(valset)\n",
    "rmse = accuracy.rmse(predictions)"
   ]
  },
  {
   "cell_type": "code",
   "execution_count": 35,
   "metadata": {},
   "outputs": [],
   "source": [
    "def get_recommendations(user_id,model,all_story_ids,n_recs=5):\n",
    "    user_read_stories = train_data[train_data['user_id']==user_id]['pratilipi_id'].unique()\n",
    "    unseen_stories = [story for story in all_story_ids if story not in user_read_stories]\n",
    "    predictions = [model.predict(user_id, story) for story in unseen_stories]\n",
    "    predictions.sort(key=lambda x: x.est, reverse=True )\n",
    "    top_recs = [pred.iid for pred in predictions[:n_recs]]\n",
    "    return top_recs\n",
    "all_story_ids = train_data['pratilipi_id'].unique()\n",
    "recommended_stories = get_recommendations(1,svd_model,all_story_ids)"
   ]
  },
  {
   "cell_type": "code",
   "execution_count": 36,
   "metadata": {},
   "outputs": [
    {
     "name": "stdout",
     "output_type": "stream",
     "text": [
      "Recommended Stories for User 1: [-44938742294840, 1377786215505130, 1377786215785902, 1377786215803170, 1377786215727917]\n"
     ]
    }
   ],
   "source": [
    "print(f\"Recommended Stories for User 1: {recommended_stories}\")"
   ]
  },
  {
   "cell_type": "markdown",
   "metadata": {},
   "source": [
    "##### optimizing the model"
   ]
  },
  {
   "cell_type": "code",
   "execution_count": 37,
   "metadata": {},
   "outputs": [
    {
     "name": "stdout",
     "output_type": "stream",
     "text": [
      "Best Parameters: {'n_factors': 100, 'reg_all': 0.02, 'lr_all': 0.005}\n"
     ]
    },
    {
     "data": {
      "text/plain": [
       "<surprise.prediction_algorithms.matrix_factorization.SVD at 0x249463a7a00>"
      ]
     },
     "execution_count": 37,
     "metadata": {},
     "output_type": "execute_result"
    }
   ],
   "source": [
    "from surprise.model_selection import RandomizedSearchCV\n",
    "from surprise import SVD, Dataset, Reader\n",
    "\n",
    "param_grid = {\n",
    "    'n_factors': [50, 100],  \n",
    "    'reg_all': [0.02, 0.1],  \n",
    "    'lr_all': [0.005]  \n",
    "}\n",
    "\n",
    "random_search = RandomizedSearchCV(SVD, param_grid, n_iter=4, measures=['rmse'], cv=2, random_state=42, n_jobs=-1)\n",
    "random_search.fit(data)\n",
    "\n",
    "best_params = random_search.best_params['rmse']\n",
    "print(f\"Best Parameters: {best_params}\")\n",
    "\n",
    "best_svd = SVD(**best_params)\n",
    "trainset = data.build_full_trainset()\n",
    "best_svd.fit(trainset)\n"
   ]
  },
  {
   "cell_type": "code",
   "execution_count": 38,
   "metadata": {},
   "outputs": [],
   "source": [
    "def get_recommendations(user_id, model, all_story_ids, n_recs=5):\n",
    "    user_read_stories = train_data[train_data['user_id']==user_id]['pratilipi_id'].unique()\n",
    "    unseen_stories = [story for story in all_story_ids if story not in user_read_stories]\n",
    "    predictions = [model.predict(user_id, story) for story in unseen_stories ]\n",
    "    predictions.sort(key=lambda x: x.est, reverse=True)\n",
    "\n",
    "    top_recs = [pred.iid for pred in predictions[:n_recs]]\n",
    "    return top_recs"
   ]
  },
  {
   "cell_type": "code",
   "execution_count": 39,
   "metadata": {},
   "outputs": [
    {
     "name": "stdout",
     "output_type": "stream",
     "text": [
      "Top 5 Recommended Stories for User 1: [1377786215776934, -44938742294840, 1377786215505130, 1377786215785902, 1377786215803170]\n"
     ]
    }
   ],
   "source": [
    "all_story_ids = train_data['pratilipi_id'].unique()\n",
    "user_id = 1\n",
    "recommended_stories = get_recommendations(user_id, best_svd, all_story_ids)\n",
    "print(f\"Top 5 Recommended Stories for User {user_id}: {recommended_stories}\")"
   ]
  },
  {
   "cell_type": "code",
   "execution_count": 41,
   "metadata": {},
   "outputs": [
    {
     "name": "stdout",
     "output_type": "stream",
     "text": [
      "✅ Optimized recommendations saved to recommendations.csv\n"
     ]
    }
   ],
   "source": [
    "import pandas as pd\n",
    "\n",
    "active_users = train_data['user_id'].value_counts()\n",
    "active_users = active_users[active_users >= 5].index  \n",
    "\n",
    "top_stories = train_data['pratilipi_id'].value_counts().head(1000).index\n",
    "\n",
    "recommendations = []\n",
    "for user in active_users[:5000]:  \n",
    "    top_stories_for_user = get_recommendations(user, best_svd, top_stories, n_recs=5)\n",
    "    recommendations.append([user] + top_stories_for_user)\n",
    "\n",
    "recommendations_df = pd.DataFrame(recommendations, columns=['user_id', 'rec_1', 'rec_2', 'rec_3', 'rec_4', 'rec_5'])\n",
    "recommendations_df.to_csv(\"recommendations.csv\", index=False)\n",
    "\n",
    "print(\"✅ Optimized recommendations saved to recommendations.csv\")\n"
   ]
  }
 ],
 "metadata": {
  "kernelspec": {
   "display_name": "Python 3",
   "language": "python",
   "name": "python3"
  },
  "language_info": {
   "codemirror_mode": {
    "name": "ipython",
    "version": 3
   },
   "file_extension": ".py",
   "mimetype": "text/x-python",
   "name": "python",
   "nbconvert_exporter": "python",
   "pygments_lexer": "ipython3",
   "version": "3.9.0"
  }
 },
 "nbformat": 4,
 "nbformat_minor": 2
}
